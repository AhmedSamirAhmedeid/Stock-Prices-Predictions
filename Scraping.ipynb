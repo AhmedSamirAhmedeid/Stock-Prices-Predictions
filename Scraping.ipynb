{
 "cells": [
  {
   "cell_type": "code",
   "execution_count": 2,
   "id": "b0113640-9fbb-46a9-ba11-8fe60e57a924",
   "metadata": {
    "execution": {
     "iopub.execute_input": "2024-08-21T13:48:33.197636Z",
     "iopub.status.busy": "2024-08-21T13:48:33.184281Z",
     "iopub.status.idle": "2024-08-21T13:50:42.957299Z",
     "shell.execute_reply": "2024-08-21T13:50:42.954092Z",
     "shell.execute_reply.started": "2024-08-21T13:48:33.197636Z"
    }
   },
   "outputs": [
    {
     "name": "stderr",
     "output_type": "stream",
     "text": [
      "[*********************100%%**********************]  503 of 503 completed\n"
     ]
    },
    {
     "name": "stdout",
     "output_type": "stream",
     "text": [
      "Data has been saved to Sctok_Yahoo_Finance.csv\n"
     ]
    },
    {
     "name": "stderr",
     "output_type": "stream",
     "text": [
      "\n",
      "KeyboardInterrupt\n",
      "\n"
     ]
    }
   ],
   "source": [
    "import pandas as pd\n",
    "import yfinance as yf\n",
    "import schedule\n",
    "import time\n",
    "import warnings\n",
    "def sp500_data():\n",
    "    warnings.filterwarnings('ignore')\n",
    "    \n",
    "    # Download the list of companies from Wikipedia and update the symbols\n",
    "    sp500 = pd.read_html('https://en.wikipedia.org/wiki/List_of_S%26P_500_companies')[0]\n",
    "    sp500['Symbol'] = sp500['Symbol'].str.replace('.', '-')\n",
    "    \n",
    "    # Setting start and end date\n",
    "    end_date = pd.to_datetime('today').strftime('%Y-%m-%d')\n",
    "    start_date = pd.to_datetime(end_date) - pd.DateOffset(years=10)\n",
    "    \n",
    "    # Data download and storage\n",
    "    data = yf.download(tickers=sp500['Symbol'].tolist(), start=start_date, end=end_date).stack()\n",
    "    data.index.names = ['date', 'ticker']\n",
    "    data.columns = data.columns.str.lower()\n",
    "    data.to_csv('Sctok_Yahoo_Finance.csv')\n",
    "    print(\"Data has been saved to Sctok_Yahoo_Finance.csv\")\n",
    "    \n",
    "# Preparing the implementation schedule\n",
    "schedule.every(24).hour.do(sp500_data)\n",
    "# Run the job immediately\n",
    "sp500_data() \n",
    "# operation loop\n",
    "while True:\n",
    "    schedule.run_pending()\n",
    "    time.sleep(1)"
   ]
  },
  {
   "cell_type": "code",
   "execution_count": null,
   "id": "261c189d-aad5-42a5-99f2-722ae81a6438",
   "metadata": {},
   "outputs": [],
   "source": []
  }
 ],
 "metadata": {
  "kernelspec": {
   "display_name": "Python 3 (ipykernel)",
   "language": "python",
   "name": "python3"
  },
  "language_info": {
   "codemirror_mode": {
    "name": "ipython",
    "version": 3
   },
   "file_extension": ".py",
   "mimetype": "text/x-python",
   "name": "python",
   "nbconvert_exporter": "python",
   "pygments_lexer": "ipython3",
   "version": "3.10.13"
  }
 },
 "nbformat": 4,
 "nbformat_minor": 5
}
